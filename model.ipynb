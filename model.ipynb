{
 "cells": [
  {
   "cell_type": "code",
   "execution_count": 2,
   "id": "ce54af32",
   "metadata": {},
   "outputs": [
    {
     "data": {
      "text/plain": [
       "True"
      ]
     },
     "execution_count": 2,
     "metadata": {},
     "output_type": "execute_result"
    }
   ],
   "source": [
    "import torch\n",
    "torch.cuda.is_available()"
   ]
  },
  {
   "cell_type": "code",
   "execution_count": 1,
   "id": "d0191baf",
   "metadata": {},
   "outputs": [],
   "source": [
    "from ultralytics import YOLO\n",
    "model = YOLO('yolo11n.pt')\n"
   ]
  },
  {
   "cell_type": "code",
   "execution_count": null,
   "id": "614295a1",
   "metadata": {},
   "outputs": [
    {
     "name": "stdout",
     "output_type": "stream",
     "text": [
      "Searching for 1 idle GPUs with free memory >= 20.0% and free utilization >= 0.0%...\n",
      "Selected idle CUDA devices [0]\n",
      "Ultralytics 8.3.203  Python-3.13.3 torch-2.8.0+cu126 CUDA:0 (NVIDIA GeForce RTX 3050 Laptop GPU, 4096MiB)\n",
      "\u001b[34m\u001b[1mengine\\trainer: \u001b[0magnostic_nms=False, amp=True, augment=False, auto_augment=randaugment, batch=16, bgr=0.0, box=7.5, cache=False, cfg=None, classes=None, close_mosaic=10, cls=0.5, compile=False, conf=None, copy_paste=0.0, copy_paste_mode=flip, cos_lr=False, cutmix=0.0, data=data_for_detection\\\\data.yaml, degrees=0.0, deterministic=True, device=0, dfl=1.5, dnn=False, dropout=0.0, dynamic=False, embed=None, epochs=100, erasing=0.4, exist_ok=False, fliplr=0.5, flipud=0.0, format=torchscript, fraction=1.0, freeze=None, half=False, hsv_h=0.015, hsv_s=0.7, hsv_v=0.4, imgsz=640, int8=False, iou=0.7, keras=False, kobj=1.0, line_width=None, lr0=0.01, lrf=0.01, mask_ratio=4, max_det=300, mixup=0.0, mode=train, model=yolo11n.pt, momentum=0.937, mosaic=1.0, multi_scale=False, name=train5, nbs=64, nms=False, opset=None, optimize=False, optimizer=auto, overlap_mask=True, patience=100, perspective=0.0, plots=True, pose=12.0, pretrained=True, profile=False, project=None, rect=False, resume=False, retina_masks=False, save=True, save_conf=False, save_crop=False, save_dir=D:\\open_barrier_with_CV_for_KBSU\\runs\\detect\\train5, save_frames=False, save_json=False, save_period=-1, save_txt=False, scale=0.5, seed=0, shear=0.0, show=False, show_boxes=True, show_conf=True, show_labels=True, simplify=True, single_cls=False, source=None, split=val, stream_buffer=False, task=detect, time=None, tracker=botsort.yaml, translate=0.1, val=True, verbose=True, vid_stride=1, visualize=False, warmup_bias_lr=0.1, warmup_epochs=3.0, warmup_momentum=0.8, weight_decay=0.0005, workers=8, workspace=None\n",
      "Overriding model.yaml nc=3 with nc=1\n",
      "\n",
      "                   from  n    params  module                                       arguments                     \n",
      "  0                  -1  1       464  ultralytics.nn.modules.conv.Conv             [3, 16, 3, 2]                 \n",
      "  1                  -1  1      4672  ultralytics.nn.modules.conv.Conv             [16, 32, 3, 2]                \n",
      "  2                  -1  1      6640  ultralytics.nn.modules.block.C3k2            [32, 64, 1, False, 0.25]      \n",
      "  3                  -1  1     36992  ultralytics.nn.modules.conv.Conv             [64, 64, 3, 2]                \n",
      "  4                  -1  1     26080  ultralytics.nn.modules.block.C3k2            [64, 128, 1, False, 0.25]     \n",
      "  5                  -1  1    147712  ultralytics.nn.modules.conv.Conv             [128, 128, 3, 2]              \n",
      "  6                  -1  1     87040  ultralytics.nn.modules.block.C3k2            [128, 128, 1, True]           \n",
      "  7                  -1  1    295424  ultralytics.nn.modules.conv.Conv             [128, 256, 3, 2]              \n",
      "  8                  -1  1    346112  ultralytics.nn.modules.block.C3k2            [256, 256, 1, True]           \n",
      "  9                  -1  1    164608  ultralytics.nn.modules.block.SPPF            [256, 256, 5]                 \n",
      " 10                  -1  1    249728  ultralytics.nn.modules.block.C2PSA           [256, 256, 1]                 \n",
      " 11                  -1  1         0  torch.nn.modules.upsampling.Upsample         [None, 2, 'nearest']          \n",
      " 12             [-1, 6]  1         0  ultralytics.nn.modules.conv.Concat           [1]                           \n",
      " 13                  -1  1    111296  ultralytics.nn.modules.block.C3k2            [384, 128, 1, False]          \n",
      " 14                  -1  1         0  torch.nn.modules.upsampling.Upsample         [None, 2, 'nearest']          \n",
      " 15             [-1, 4]  1         0  ultralytics.nn.modules.conv.Concat           [1]                           \n",
      " 16                  -1  1     32096  ultralytics.nn.modules.block.C3k2            [256, 64, 1, False]           \n",
      " 17                  -1  1     36992  ultralytics.nn.modules.conv.Conv             [64, 64, 3, 2]                \n",
      " 18            [-1, 13]  1         0  ultralytics.nn.modules.conv.Concat           [1]                           \n",
      " 19                  -1  1     86720  ultralytics.nn.modules.block.C3k2            [192, 128, 1, False]          \n",
      " 20                  -1  1    147712  ultralytics.nn.modules.conv.Conv             [128, 128, 3, 2]              \n",
      " 21            [-1, 10]  1         0  ultralytics.nn.modules.conv.Concat           [1]                           \n",
      " 22                  -1  1    378880  ultralytics.nn.modules.block.C3k2            [384, 256, 1, True]           \n",
      " 23        [16, 19, 22]  1    430867  ultralytics.nn.modules.head.Detect           [1, [64, 128, 256]]           \n",
      "YOLO11n summary: 181 layers, 2,590,035 parameters, 2,590,019 gradients, 6.4 GFLOPs\n",
      "\n",
      "Transferred 493/499 items from pretrained weights\n",
      "Freezing layer 'model.23.dfl.conv.weight'\n",
      "\u001b[34m\u001b[1mAMP: \u001b[0mrunning Automatic Mixed Precision (AMP) checks...\n",
      "\u001b[34m\u001b[1mAMP: \u001b[0mchecks passed \n",
      "\u001b[34m\u001b[1mtrain: \u001b[0mFast image access  (ping: 0.00.0 ms, read: 129.4151.2 MB/s, size: 1566.9 KB)\n",
      "\u001b[K\u001b[34m\u001b[1mtrain: \u001b[0mScanning D:\\open_barrier_with_CV_for_KBSU\\data_for_detection\\labels\\train... 359 images, 0 backgrounds, 0 corrupt: 100% ━━━━━━━━━━━━ 359/359 149.9it/s 2.4s0.2s\n",
      "\u001b[34m\u001b[1mtrain: \u001b[0mNew cache created: D:\\open_barrier_with_CV_for_KBSU\\data_for_detection\\labels\\train.cache\n"
     ]
    }
   ],
   "source": [
    "\n",
    "model.train(data = r\"data_for_detection\\\\data.yaml\",epochs = 100,imgsz = 640,device = -1,batch = 16)"
   ]
  },
  {
   "cell_type": "code",
   "execution_count": 7,
   "id": "902250ff",
   "metadata": {},
   "outputs": [
    {
     "name": "stdout",
     "output_type": "stream",
     "text": [
      "--- Начинаем фильтрацию файлов разметки ---\n",
      "Обрабатываем папку: data_for_detection/labels/train\n",
      "Обрабатываем папку: data_for_detection/labels/val\n",
      "Обрабатываем папку: data_for_detection/labels/test\n",
      "\n",
      "--- Фильтрация завершена ---\n",
      "Обработано файлов: 452\n",
      "Удалено пустых файлов разметки: 4\n",
      "\n",
      "ВАЖНО: Не забудьте обновить ваш data.yaml файл!\n"
     ]
    }
   ],
   "source": [
    "import os\n",
    "\n",
    "# --- НАСТРОЙКИ ---\n",
    "label_folders = [\n",
    "    r\"data_for_detection/labels/train\",\n",
    "    r\"data_for_detection/labels/val\",\n",
    "    r\"data_for_detection/labels/test\" \n",
    "]\n",
    "# Укажи индекс класса, который мы хотим оставить (в твоем случае 'plate' -> 1)\n",
    "TARGET_CLASS_INDEX = 1\n",
    "# -----------------\n",
    "\n",
    "print(\"--- Начинаем фильтрацию файлов разметки ---\")\n",
    "files_processed = 0\n",
    "files_deleted = 0\n",
    "\n",
    "for folder in label_folders:\n",
    "    if not os.path.exists(folder):\n",
    "        print(f\"Папка не найдена, пропускаю: {folder}\")\n",
    "        continue\n",
    "        \n",
    "    print(f\"Обрабатываем папку: {folder}\")\n",
    "    \n",
    "    for filename in os.listdir(folder):\n",
    "        if filename.endswith(\".txt\"):\n",
    "            file_path = os.path.join(folder, filename)\n",
    "            \n",
    "            with open(file_path, 'r') as f:\n",
    "                lines = f.readlines()\n",
    "            \n",
    "            new_lines = []\n",
    "            for line in lines:\n",
    "                parts = line.strip().split()\n",
    "                if not parts:\n",
    "                    continue\n",
    "                \n",
    "                class_id = int(parts[0])\n",
    "                \n",
    "                # Если это наш целевой класс\n",
    "                if class_id == TARGET_CLASS_INDEX:\n",
    "                    # Заменяем старый индекс на 0 и добавляем в новый список\n",
    "                    new_line = f\"0 {' '.join(parts[1:])}\\n\"\n",
    "                    new_lines.append(new_line)\n",
    "            \n",
    "            # Если в файле остались нужные нам объекты\n",
    "            if new_lines:\n",
    "                with open(file_path, 'w') as f:\n",
    "                    f.writelines(new_lines)\n",
    "            # Если в файле не осталось нужных объектов\n",
    "            else:\n",
    "                os.remove(file_path)\n",
    "                files_deleted += 1\n",
    "\n",
    "            files_processed += 1\n",
    "\n",
    "print(\"\\n--- Фильтрация завершена ---\")\n",
    "print(f\"Обработано файлов: {files_processed}\")\n",
    "print(f\"Удалено пустых файлов разметки: {files_deleted}\")\n",
    "print(\"\\nВАЖНО: Не забудьте обновить ваш data.yaml файл!\")"
   ]
  },
  {
   "cell_type": "code",
   "execution_count": 8,
   "id": "7f3e0694",
   "metadata": {},
   "outputs": [
    {
     "name": "stdout",
     "output_type": "stream",
     "text": [
      "--- Начинаем удаление 'осиротевших' изображений ---\n",
      "Сравниваем папки: 'train' и 'train'\n",
      "Сравниваем папки: 'val' и 'val'\n",
      "Сравниваем папки: 'test' и 'test'\n",
      "\n",
      "--- Очистка завершена ---\n",
      "Проверено файлов изображений: 452\n",
      "Удалено 'осиротевших' изображений: 4\n"
     ]
    }
   ],
   "source": [
    "# delete_orphan_images_v3.py\n",
    "import os\n",
    "\n",
    "# --- НАСТРОЙКИ ---\n",
    "# Укажи полные пути к папкам с изображениями и разметкой\n",
    "# Важно, чтобы порядок папок соответствовал друг другу!\n",
    "image_folders = [\n",
    "    r\"data_for_detection/images/train\",\n",
    "    r\"data_for_detection/images/val\",\n",
    "    r\"data_for_detection/images/test\"\n",
    "]\n",
    "label_folders = [\n",
    "    r\"data_for_detection/labels/train\",\n",
    "    r\"data_for_detection/labels/val\",\n",
    "    r\"data_for_detection/labels/test\" \n",
    "]\n",
    "# -----------------\n",
    "\n",
    "print(\"--- Начинаем удаление 'осиротевших' изображений ---\")\n",
    "files_checked = 0\n",
    "files_deleted = 0\n",
    "\n",
    "# Проходим по парам папок (images/train и labels/train, и т.д.)\n",
    "for images_path, labels_path in zip(image_folders, label_folders):\n",
    "    \n",
    "    if not os.path.exists(images_path) or not os.path.exists(labels_path):\n",
    "        print(f\"ВНИМАНИЕ: Пропускаю пару, т.к. одна из папок не найдена: '{images_path}' или '{labels_path}'\")\n",
    "        continue\n",
    "        \n",
    "    print(f\"Сравниваем папки: '{os.path.basename(images_path)}' и '{os.path.basename(labels_path)}'\")\n",
    "    \n",
    "    # Создаем множество имен файлов разметки для быстрой проверки\n",
    "    label_basenames = {os.path.splitext(f)[0] for f in os.listdir(labels_path)}\n",
    "    \n",
    "    for image_filename in os.listdir(images_path):\n",
    "        files_checked += 1\n",
    "        image_basename = os.path.splitext(image_filename)[0]\n",
    "        \n",
    "        # Если имя изображения (без расширения) отсутствует в именах разметки\n",
    "        if image_basename not in label_basenames:\n",
    "            image_filepath = os.path.join(images_path, image_filename)\n",
    "            os.remove(image_filepath)\n",
    "            files_deleted += 1\n",
    "            # Раскомментируй следующую строку, если хочешь видеть каждый удаленный файл\n",
    "            # print(f\"  Удалено: {image_filepath}\")\n",
    "\n",
    "print(\"\\n--- Очистка завершена ---\")\n",
    "print(f\"Проверено файлов изображений: {files_checked}\")\n",
    "print(f\"Удалено 'осиротевших' изображений: {files_deleted}\")"
   ]
  }
 ],
 "metadata": {
  "kernelspec": {
   "display_name": "venv",
   "language": "python",
   "name": "python3"
  },
  "language_info": {
   "codemirror_mode": {
    "name": "ipython",
    "version": 3
   },
   "file_extension": ".py",
   "mimetype": "text/x-python",
   "name": "python",
   "nbconvert_exporter": "python",
   "pygments_lexer": "ipython3",
   "version": "3.13.3"
  }
 },
 "nbformat": 4,
 "nbformat_minor": 5
}
